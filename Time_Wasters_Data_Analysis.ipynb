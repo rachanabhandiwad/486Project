{
 "cells": [
  {
   "cell_type": "code",
   "execution_count": null,
   "metadata": {},
   "outputs": [],
   "source": [
    "#satisfaction vs addiction level\n",
    "#total time spent vs addiction level\n",
    "\n",
    "#box plots - device_type vs addiction level\n",
    "#income vs addiction level\n",
    "#self control vs addiction level\n",
    "\n",
    "#Number of sessions vs addiction level\n",
    "#Number of videos watched vs addiction level\n",
    "#scroll rate vs addiction level\n",
    "#watch reason vs addiction level\n",
    "\n",
    "# heatmap comparing effects of total time spent, scroll rate, frequency on addiction level and productivity loss\n",
    "# stacked bar chart (watch reason vs. addiction level, platform type vs. productivity loss)\n",
    "# watch time vs productivity loss\n",
    "# frequency vs addiction level\n"
   ]
  },
  {
   "cell_type": "code",
   "execution_count": null,
   "metadata": {},
   "outputs": [],
   "source": [
    "import pandas as pd\n",
    "import seaborn as sea\n",
    "import matplotlib.pyplot as plt\n",
    "\n",
    "# Correlation Heat Map\n",
    "file = pd.read_csv('Time_Wasters_on_Social_Media.csv')\n"
   ]
  },
  {
   "cell_type": "code",
   "execution_count": null,
   "metadata": {},
   "outputs": [],
   "source": [
    "#Scatterplots - \n",
    "plt.figure(figsize=(8,5))\n",
    "sea.scatterplot(x=file['Total Time Spent'], y=file['Addiction Level'])\n",
    "plt.title(\"Total Time Spent vs Addiction Level\")\n",
    "plt.xlabel(\"Total Time Spent\")\n",
    "plt.ylabel(\"Addiction Level\")\n",
    "plt.show()\n"
   ]
  }
 ],
 "metadata": {
  "language_info": {
   "name": "python"
  }
 },
 "nbformat": 4,
 "nbformat_minor": 2
}
